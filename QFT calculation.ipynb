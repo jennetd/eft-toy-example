{
 "cells": [
  {
   "cell_type": "markdown",
   "id": "b38727b1-0d72-4077-b929-103f59ec782b",
   "metadata": {},
   "source": [
    "# Feynman rules\n",
    "\n",
    "Here are the Feynman rules that we need from the electroweak theory in the broken phase."
   ]
  },
  {
   "cell_type": "markdown",
   "id": "fe94c43d-a392-4fcc-8468-d5341865bb49",
   "metadata": {},
   "source": [
    "\n",
    "Photon propagator ($R_ξ$ gauge, with $ξ = 1$): $$-i \\frac{g_{μν}}{k^2 + i ε}$$\n",
    "\n",
    "Z propagator: $$-i \\frac{g_{μν}}{k^2 - M_Z^2 + i M_Z Γ_Z}$$\n",
    "\n",
    "lepton-photon vertex: $$ -i e γ_μ$$\n",
    "\n",
    "lepton-Z vertex: $$i \\frac{g}{\\cos θ_W} γ_μ \\left(g_V - g_A γ^5\\right)$$\n",
    "\n",
    "$g_V$ is the vector coupling of the $Z$ to leptons, and $g_A$ is the axial-vector coupling.  These are set by the weak hypercharge $Q$ and weak isospin $I_3$ quantum numbers of the electron and muon.\n",
    "\n",
    "\\begin{eqnarray}\n",
    "g_V^e = g_V^μ &=& 2 \\sin^2 θ_W - 1/2\\\\\n",
    "g_A^e = g_A^μ &=& -1/2\n",
    "\\end{eqnarray}"
   ]
  },
  {
   "cell_type": "markdown",
   "id": "bd0d5e19-230d-41e1-a888-2b3e210767e2",
   "metadata": {},
   "source": [
    "Then there are two diagrams at tree level, one with a photon and one with a Z boson.  The matrix elements for these two diagrams are as follows, where $u$, $\\bar{u}$, $v$, and $\\bar{v}$ are the plane-wave solutions to the Dirac equation.  The subscripts indicate which particle each plane wave corresponds to, and the plane waves are parameterized by the four-momentum and spin of that particle.\n",
    "\n",
    "Particle 1 is an incoming electron, particle 2 is an incoming positron, particle 3 is an outgoing muon, and particle 4 is an outgoing antimuon.\n",
    "\n",
    "Photon diagram:\n",
    "\\begin{eqnarray}\n",
    "-i M_\\text{photon} &=& \\left(\\bar{u}_3 \\left(-i e γ_μ\\right) v_4\\right) \\left(\\frac{g^{μν}}{k^2 + iε}\\right) \\left(\\bar{v}_2 \\left(-ie γ_ν\\right) u_1\\right) \\\\\n",
    "&=& \\frac{e^2}{k^2 + iε} \\left(\\bar{u}_3 γ_μ v_4\\right) \\left(\\bar{v}_2 γ^μ u_1\\right)\n",
    "\\end{eqnarray}\n",
    "\n",
    "Z diagram:\n",
    "\\begin{eqnarray}\n",
    "-i M_\\text{Z boson} &=& \\left(\\bar{u}_3 \\left(i \\frac{g}{\\cos θ_W} γ_μ \\left(g_V - g_A γ^5\\right)\\right)v_4\\right)\\left(\\frac{g^{μν}}{k^2 - M_Z^2 + i M_Z Γ_Z}\\right)\\left(\\bar{v}_2 \\left(i \\frac{g}{\\cos θ_W} γ_ν \\left(g_V - g_A γ^5\\right)\\right)u_1\\right)\\\\\n",
    "&=& \\frac{g^2}{\\cos^2 θ_W} \\frac{1}{k^2 - M_Z^2 + i M_Z Γ_Z} \\left(\\bar{u}_3 γ_μ \\left(g_V - g_A γ^5\\right) v_4 \\right)\\left(\\bar{v}_2 γ^μ \\left(g_V - g_A γ^5\\right) u_1 \\right)\\\\\n",
    "&=& \\frac{g^2}{\\cos^2 θ_W} \\frac{1}{k^2 - M_Z^2 + i M_Z Γ_Z} \\left[g_V^2 (\\bar{u}_3 γ_μ v_4)(\\bar{v}_2 γ^μ u_1) + g_V g_A (\\bar{u}_3 γ_μ γ^5 v_4) (\\bar{v}_2 γ^μ u_1) + g_A^2 (\\bar{u}_3 γ_μ γ^5 v_4) (\\bar{v}_2 γ^μ γ^5 u_1) + g_V g_A (\\bar{u}_3 γ_μ v_4) (\\bar{v}_2 γ^μ γ^5 u_1)\\right]\n",
    "\\end{eqnarray}"
   ]
  },
  {
   "cell_type": "markdown",
   "id": "e7a6803a-ebfd-49d7-8a7c-e6e22d935ccb",
   "metadata": {},
   "source": [
    "If we define the vector and axial vector bilinears for incoming and outgoing particles as\n",
    "$$V_i = (\\bar{v}_2 γ^μ u_1), \\quad A_i = (\\bar{v}_2 γ^μ γ^5 u_1), \\quad V_o = (\\bar{u}_3 γ_μ v_4), \\quad A_o = (\\bar{u}_3 γ_μ γ^5 v_4)$$\n",
    "then we can write the complete tree-level matrix element as\n",
    "$$-i M = \\frac{e^2}{k^2 + iε} V_o V_i + \\frac{g^2}{\\cos^2 θ_W} \\frac{1}{k^2 - M_Z^2 + iM_Z Γ_Z} \\left[ g_V^2 V_o V_i + g_V g_A A_o V_i + g_V g_A V_o A_i + g_A^2 A_o A_i\\right]$$"
   ]
  },
  {
   "cell_type": "markdown",
   "id": "b9604b10-edf7-4393-9b37-8a3164d2aff4",
   "metadata": {},
   "source": [
    "Using the relations $γ^0 γ^μ = γ^{μ\\dagger} γ^0$ and $γ^{0\\dagger} = γ^0$, we can write the conjugates of the bilinears:\n",
    "\n",
    "$$V_i^* = (\\bar{v}_2 γ^μ u_1)^* = (v_2^\\dagger γ^0 γ^μ u_1)^\\dagger = (v_2^\\dagger γ^{μ\\dagger} γ^0 u_1)^\\dagger = (u_1^\\dagger γ^{0\\dagger} γ^μ v_2) = (u_1^\\dagger γ^0 γ^μ v_2) = (\\bar{u}_1 γ^μ v_2)$$\n",
    "\n",
    "Similarly, using $γ^{5\\dagger} = γ^5$ and $\\{γ^5, γ^μ\\} = 0$,\n",
    "\n",
    "$$A_i^* = (\\bar{v}_w γ^μ γ^5 u_1)^* = (v_2^\\dagger γ^0 γ^μ γ^5 u_1)^\\dagger = (v_2^\\dagger γ^{μ\\dagger} γ^0 γ^5 u_1)^\\dagger = (u_1^\\dagger γ^{5\\dagger} γ^{0\\dagger} γ^μ v_2) = (u_1^\\dagger γ^5 γ^0 γ^μ v_2) = - (u_1^\\dagger γ^0 γ^5 γ^μ v_2) = (u_1^\\dagger γ^0 γ^μ γ^5 v_2) = (\\bar{u}_1 γ^μ γ^5 v_2)$$\n",
    "\n",
    "And for the outgoing particles it is the same,\n",
    "$$V_o^* = (\\bar{v}_4 γ_μ u_3), \\quad A_o^* = (\\bar{v}_4 γ_μ γ^5 u_3)$$"
   ]
  },
  {
   "cell_type": "markdown",
   "id": "ee47f4ee-53cd-4a3a-96bb-b484847e173f",
   "metadata": {},
   "source": [
    "# $M^2$\n",
    "\n",
    "Now we need to calculate the squared matrix element.  We also need to average over incoming spin states and sum over outgoing spin states, which we will do using the Casimir trick.\n",
    "\n",
    "\\begin{eqnarray}\n",
    "\\overline{|M|^2} &=& \\frac{1}{2} \\sum_{s_1} \\frac{1}{2} \\sum_{s_2} \\sum_{s_3} \\sum_{s_4} M^* M\\\\\n",
    "&=& \\frac{1}{4} \\sum_{s_1, s_2, s_3, s_4} \\left[M_\\text{photon}^* M_\\text{photon} + 2 \\Re M_\\text{photon}^* M_\\text{Z boson} + M_\\text{Z boson}^* M_\\text{Z boson}\\right]\n",
    "\\end{eqnarray}\n",
    "\n",
    "## Photon only term\n",
    "\n",
    "We will start with the photon-only term\n",
    "\\begin{eqnarray}\n",
    "\\overline{|M_\\text{photon}|^2} &=& \\frac{1}{4} \\frac{e^4}{k^4 + ε^2} \\sum_{s_1, s_2} V_i^* V_i \\sum_{s_3, s_4} V_o^* V_o\n",
    "\\end{eqnarray}\n",
    "\n",
    "Taking only the incoming-particles factor, and writing it out with the spinor indices made explicit, we have\n",
    "\\begin{eqnarray}\n",
    "\\sum_{s_1, s_2} V_i^* V_i &=& \\sum_{s_1, s_2} (\\bar{u}(\\mathbf{p}_1, s_1)_{i} γ^μ_{ij} v(\\mathbf{p}_2, s_2)_{j}) (\\bar{v}(\\mathbf{p}_2, s_2)_{k} γ^ν_{kl} u(\\mathbf{p}_1, s_1)_{l})\\\\\n",
    "&=& \\left(\\sum_{s_1} u(\\mathbf{p}_1, s_1)_{l} \\bar{u}(\\mathbf{p}_1, s_1)_{i} \\right) \\left(\\sum_{s_2} v(\\mathbf{p}_2, s_2)_{j} \\bar{v}(\\mathbf{p}_2, s_2)_{k}\\right) γ^μ_{ij} γ^ν_{kl}\n",
    "\\end{eqnarray}\n",
    "\n",
    "The Casimir trick tells us that\n",
    "$$\\sum_s u(\\mathbf{p}, s)_i \\bar{u}(\\mathbf{p}, s)_j = \\left(p_μ γ^μ_{ij} + m δ_{ij}\\right)$$\n",
    "and\n",
    "$$\\sum_s v(\\mathbf{p}, s)_i \\bar{v}(\\mathbf{p}, s)_j = \\left(p_μ γ^μ_{ij} - m δ_{ij}\\right)$$\n",
    "where $m$ is the fermion mass.\n",
    "\n",
    "$\\DeclareMathOperator{\\Tr}{Tr}$\n",
    "\n",
    "So this gives us\n",
    "\\begin{eqnarray}\n",
    "\\sum_{s_1, s_2} V_i^* V_i &=& \\left(p_{1α} γ^α_{li} + m_1 δ_{li}\\right) \\left(p_{2β} γ^β_{jk} - m_2 δ_{jk}\\right)_{jk} γ^μ_{ij} γ^ν_{kl}\\\\\n",
    "&=& p_{1α} p_{2β} γ^α_{li} γ^μ_{ij} γ^β_{jk} γ^ν_{kl} + m_1 p_{2β} δ_{li} γ^μ_{ij} γ^β_{jk} γ^ν_{kl} - p_{1α} m_2 γ^α_{li} γ^μ_{ij} δ_{jk} γ^ν_{kl} - m_1 m_2 δ_{li} γ^μ_{ij} δ_{jk} γ^ν_{kl} \\\\\n",
    "&=& p_{1α} p_{2β} \\Tr\\left[γ^α γ^μ γ^β γ^ν\\right] + m_1 p_{2β} \\Tr\\left[γ^μ γ^β γ^ν\\right] - p_{1α} m_2 \\Tr\\left[γ^α γ^μ γ^ν\\right] - m_1 m_2 \\Tr\\left[γ^μ γ^ν\\right]\n",
    "\\end{eqnarray}\n",
    "\n",
    "Now we can use the trace identities of the gamma matrices,\n",
    "\\begin{eqnarray}\n",
    "\\Tr\\left[γ^α γ^μ γ^β γ^ν\\right] &=& 4 \\left(g^{αμ} g^{βν} - g^{αβ} g^{μν} + g^{αν} g^{βμ}\\right)\\\\\n",
    "\\Tr\\left[γ^α γ^β γ^δ\\right] &=& 0\\\\\n",
    "\\Tr\\left[γ^μ γ^ν\\right] &=& 4 g^{μν}\n",
    "\\end{eqnarray}\n",
    "to give us\n",
    "\\begin{eqnarray}\n",
    "\\sum_{s_1, s_2} V_i^* V_i &=& 4 p_{1α} p_{2β} \\left(g^{αμ} g^{βν} - g^{αβ} g^{μν} + g^{αν} g^{βμ}\\right) - 4 m_1 m_2 g^{μν}\n",
    "\\end{eqnarray}"
   ]
  },
  {
   "cell_type": "markdown",
   "id": "1a5f48de-7e70-4cc1-b261-734a33df6745",
   "metadata": {},
   "source": [
    "Similarly,\n",
    "$$\\sum_{s_3, s_4} V_o^* V_o = 4 p_3^α p_4^β \\left(g_{αμ} g_{βν} - g_{αβ} g_{μν} + g_{αν} g_{βμ}\\right) - 4 m_3 m_4 g_{μν}$$"
   ]
  },
  {
   "cell_type": "markdown",
   "id": "ff3c0deb-0258-48af-9989-1dc0e98a674e",
   "metadata": {},
   "source": [
    "We want to work in the highly relativistic domain, so we will treat the fermions as massless from here on.\n",
    "\n",
    "\\begin{eqnarray}\n",
    "\\overline{|M_\\text{photon}|^2} &=& 4 \\frac{e^4}{k^4 + ε^2} p_{1α} p_{2β} p_3^σ p_4^ρ \\left(g^{αμ} g^{βν} - g^{αβ} g^{μν} + g^{αν} g^{βμ}\\right) \\left(g_{σμ} g_{ρν} - g_{σρ} g_{μν} + g_{σν} g_{ρμ}\\right)\\\\\n",
    "&=& 4 \\frac{e^4}{k^4 + ε^2} \\left[(p_1 ⋅ p_3) (p_2 ⋅ p_4) - (p_1 ⋅ p_2)(p_3 ⋅ p_4) + (p_1 ⋅ p_4)(p_2 ⋅ p_3) - (p_1 ⋅ p_2)(p_3 ⋅ p_4) + 4 (p_1 ⋅ p_2)(p_3 ⋅ p_4) - (p_1 ⋅ p_2)(p_3 ⋅ p_4) + (p_1 ⋅ p_4) (p_2 ⋅ p_3) - (p_1 ⋅ p_2) (p_3 ⋅ p_4) + (p_1 ⋅ p_3)(p_2 ⋅ p_4)\\right]\\\\\n",
    "&=& 8 \\frac{e^4}{k^4 + ε^2} \\left[(p_1 ⋅ p_3)(p_2 ⋅ p_4) + (p_1 ⋅ p_4)(p_2 ⋅ p_3)\\right]\n",
    "\\end{eqnarray}"
   ]
  },
  {
   "cell_type": "markdown",
   "id": "aa77d00e-7d1e-4d14-96bc-1b1b7c8bbad5",
   "metadata": {},
   "source": [
    "## $Z$ boson only term\n",
    "\n",
    "Similarly, we can work out the $Z$ boson-only term\n",
    "\\begin{eqnarray}\n",
    "\\overline{|M_\\text{Z boson}|^2} = \\frac{1}{4} \\frac{g^4}{\\cos^4 θ_W} \\frac{1}{(k^2 - M_Z^2)^2 + M_Z^2 Γ_Z^2} \\sum_{s_1, s_2, s_3, s_4} \\left[ g_V^2 V_o V_i + g_V g_A A_o V_i + g_V g_A V_o A_i + g_A^2 A_o A_i\\right]^* \\left[ g_V^2 V_o V_i + g_V g_A A_o V_i + g_V g_A V_o A_i + g_A^2 A_o A_i\\right]\n",
    "\\end{eqnarray}\n",
    "\n",
    "Now we will need to know a variety of cross terms involving both the vector and axial vector bilinears.\n",
    "\n",
    "\\begin{eqnarray}\n",
    "\\sum_{s_1, s_2} V_i^* A_i &=& p_{1α} p_{2β} \\Tr\\left[γ^α γ^μ γ^β γ^ν γ^5\\right] = -4 i p_{1α} p_{2β} ε^{αμβν}\\\\\n",
    "\\sum_{s_1, s_2} A_i^* V_i &=& p_{1α} p_{2β} \\Tr\\left[γ^α γ^μ γ^5 γ^β γ^ν\\right] = p_{1α} p_{2β} \\Tr\\left[γ^α γ^μ γ^β γ^ν γ^5\\right] = -4 i p_{1α} p_{2β} ε^{aμβν}\\\\\n",
    "\\sum_{s_1, s_2} A_i^* A_i &=& p_{1α} p_{2β} \\Tr\\left[γ^α γ^μ γ^5 γ^β γ^ν γ^5\\right] = p_{1α} p_{2β} \\Tr\\left[γ^α γ^μ γ^β γ^ν\\right] = 4 p_{1α} p_{2β} \\left(g^{αμ} g^{βν} - g^{αβ} g^{μν} + g^{αν} g^{βμ}\\right)\n",
    "\\end{eqnarray}\n",
    "where we have used the anticommutator $\\{γ^5, γ^μ\\} = 0$ and $γ^5 γ^5 = 1$, and where $ε^{αμβν}$ is the Levi-Civita symbol with $ε^{0123} = +1$.\n",
    "\n",
    "The terms for the outgoing particles are similar.\n",
    "\n",
    "We can compute all of the cross terms now\n",
    "\\begin{eqnarray}\n",
    "\\sum_{s_1, s_2, s_3, s_4} V_i^* V_i V_o^* V_o &=& 32 \\left[(p_1 ⋅ p_3)(p_2 ⋅ p_4) + (p_1 ⋅ p_4) (p_2 ⋅ p_3)\\right]\\\\\n",
    "\\sum_{s_1, s_2, s_3, s_4} V_i^* V_i V_o^* A_o &=& -16 i p_{1α} p_{2β} p_3^σ p_4^ρ \\left(g^{αμ} g^{βν} - g^{αβ} g^{μν} + g^{αν} g^{βμ}\\right) ε_{σμρν} = 0\\\\\n",
    "\\sum_{s_1, s_2, s_3, s_4} V_i^* V_i A_o^* V_o &=& 0\\\\\n",
    "\\sum_{s_1, s_2, s_3, s_4} V_i^* V_i A_o^* A_o &=& 32 \\left[(p_1 ⋅ p_3)(p_2 ⋅ p_4) + (p_1 ⋅ p_4) (p_2 ⋅ p_3)\\right]\\\\\n",
    "\\sum_{s_1, s_2, s_3, s_4} V_i^* A_i V_o^* V_o &=& 0\\\\\n",
    "\\sum_{s_1, s_2, s_3, s_4} V_i^* A_i V_o^* A_o &=& -16 p_{1α} p_{2β} p_3^σ p_4^ρ ε^{αμβν} ε_{σμρν} = 32 \\left[(p_1 ⋅ p_3) (p_2 ⋅ p_4) - (p_1 ⋅ p_4) (p_2 ⋅ p_3)\\right]\\\\\n",
    "\\sum_{s_1, s_2, s_3, s_4} V_i^* A_i A_o^* V_o &=& 32 \\left[(p_1 ⋅ p_3) (p_2 ⋅ p_4) - (p_1 ⋅ p_4) (p_2 ⋅ p_3)\\right]\\\\\n",
    "\\sum_{s_1, s_2, s_3, s_4} V_i^* A_i A_o^* A_o &=& 0\\\\\n",
    "\\sum_{s_1, s_2, s_3, s_4} A_i^* V_i V_o^* V_o &=& 0\\\\\n",
    "\\sum_{s_1, s_2, s_3, s_4} A_i^* V_i V_o^* A_o &=& 32 \\left[(p_1 ⋅ p_3) (p_2 ⋅ p_4) - (p_1 ⋅ p_4) (p_2 ⋅ p_3)\\right]\\\\\n",
    "\\sum_{s_1, s_2, s_3, s_4} A_i^* V_i A_o^* V_o &=& 32 \\left[(p_1 ⋅ p_3) (p_2 ⋅ p_4) - (p_1 ⋅ p_4) (p_2 ⋅ p_3)\\right]\\\\\n",
    "\\sum_{s_1, s_2, s_3, s_4} A_i^* V_i A_o^* A_o &=& 0\\\\\n",
    "\\sum_{s_1, s_2, s_3, s_4} A_i^* A_i V_o^* V_o &=& 32 \\left[(p_1 ⋅ p_3)(p_2 ⋅ p_4) + (p_1 ⋅ p_4) (p_2 ⋅ p_3)\\right]\\\\\n",
    "\\sum_{s_1, s_2, s_3, s_4} A_i^* A_i V_o^* A_o &=& 0\\\\\n",
    "\\sum_{s_1, s_2, s_3, s_4} A_i^* A_i A_o^* V_o &=& 0\\\\\n",
    "\\sum_{s_1, s_2, s_3, s_4} A_i^* A_i A_o^* A_o &=& 32 \\left[(p_1 ⋅ p_3)(p_2 ⋅ p_4) + (p_1 ⋅ p_4) (p_2 ⋅ p_3)\\right]\\\\\n",
    "\\end{eqnarray}\n",
    "\n",
    "This finally leaves us with\n",
    "\\begin{eqnarray}\n",
    "\\overline{|M_\\text{Z boson}|^2} = 8 \\frac{g^4}{\\cos^4 θ_W} \\frac{1}{(k^2 - M_Z^2)^2 + M_Z^2 Γ_Z^2} \\left[(g_V^4 + 2g_V^2 g_A^2 + g_A^4) \\left[(p_1 ⋅ p_3)(p_2 ⋅ p_4) + (p_1 ⋅ p_4) (p_2 ⋅ p_3)\\right] + 4 g_V^2 g_A^2 \\left[(p_1 ⋅ p_3) (p_2 ⋅ p_4) - (p_1 ⋅ p_4) (p_2 ⋅ p_3)\\right]\\right]\n",
    "\\end{eqnarray}"
   ]
  },
  {
   "cell_type": "markdown",
   "id": "3c4840d7-7f7c-4998-8e90-0f4ef5a9b2fa",
   "metadata": {},
   "source": [
    "## Mixed photon-$Z$ term\n",
    "\n",
    "Lastly, we can work out the photon-$Z$ cross term\n",
    "\n",
    "\\begin{eqnarray}\n",
    "\\frac{1}{4} \\sum_{s_1, s_2, s_3, s_4} 2 \\Re M_\\text{photon}^* M_\\text{Z boson} &=& \\frac{1}{2} \\Re \\left[\\frac{e^2}{k^2 - iε} \\frac{g^2}{\\cos^2 θ_W} \\frac{1}{k^2 - M_Z^2 + iM_Z Γ_Z} \\sum_{s_1, s_2, s_3, s_4} V_i^* V_o^* \\left[ g_V^2 V_o V_i + g_V g_A A_o V_i + g_V g_A V_o A_i + g_A^2 A_o A_i\\right]\\right] \\\\\n",
    "&=& \\frac{1}{2} \\frac{e^2 g^2}{\\cos^2 θ_W} \\Re \\left[\\frac{1}{k^2 - iε} \\frac{1}{k^2 - M_Z^2 + iM_Z Γ_Z}\\right] \\sum_{s_1, s_2, s_3, s_4} \\left[ g_V^2 V_i^* V_i V_o^* V_o + g_V g_A V_i^* V_i V_o^* A_o + g_V g_A V_i^* A_i V_o^* V_o + g_A^2 V_i^* A_i V_o^* A_o\\right]\\\\\n",
    "&=& \\frac{1}{2} \\frac{e^2 g^2}{\\cos^2 θ_W} \\Re \\left[\\frac{1}{k^2 - iε} \\frac{1}{k^2 - M_Z^2 + iM_Z Γ_Z}\\right] 32 \\left[g_V^2 \\left((p_1 ⋅ p_3) (p_2 ⋅ p_4) + (p1 ⋅ p_4) (p_2 ⋅ p_3)\\right) + g_A^2 \\left((p_1 ⋅ p_3) (p_2 ⋅ p_4) - (p_1 ⋅ p_4) (p_2 ⋅ p_3)\\right)\\right]\\\\\n",
    "&=& 16 \\frac{e^2 g^2}{\\cos^2 θ_W} \\Re \\left[\\frac{1}{k^2 - iε} \\frac{1}{k^2 - M_Z^2 + iM_Z Γ_Z}\\right] \\left[g_V^2 \\left((p_1 ⋅ p_3) (p_2 ⋅ p_4) + (p1 ⋅ p_4) (p_2 ⋅ p_3)\\right) + g_A^2 \\left((p_1 ⋅ p_3) (p_2 ⋅ p_4) - (p_1 ⋅ p_4) (p_2 ⋅ p_3)\\right)\\right]\\\\\n",
    "&=& 16 \\frac{e^2 g^2}{\\cos^2 θ_W}  \\frac{k^2(k^2 - M_Z^2) + ε M_Z Γ_Z}{(k^4 + ε^2) ((k^2 - M_Z^2)^2 + M_Z^2 Γ_Z^2)} \\left[g_V^2 \\left((p_1 ⋅ p_3) (p_2 ⋅ p_4) + (p1 ⋅ p_4) (p_2 ⋅ p_3)\\right) + g_A^2 \\left((p_1 ⋅ p_3) (p_2 ⋅ p_4) - (p_1 ⋅ p_4) (p_2 ⋅ p_3)\\right)\\right]\\\\\n",
    "\\end{eqnarray}\n",
    "\n",
    "$$%-i M = \\frac{e^2}{k^2 + iε} V_o V_i + \\frac{g^2}{\\cos^2 θ_W} \\frac{1}{k^2 - M_Z^2 + iM_Z Γ_Z} \\left[ g_V^2 V_o V_i + g_V g_A A_o V_i + g_V g_A V_o A_i + g_A^2 A_o A_i\\right]$$"
   ]
  },
  {
   "cell_type": "markdown",
   "id": "a412e7b5-dc77-46a1-b619-4cd6e8be758c",
   "metadata": {},
   "source": [
    "## Complete squared matrix element\n",
    "\n",
    "Now we have the complete squared matrix element, in which we can now set $ε = 0$,\n",
    "\n",
    "\\begin{eqnarray}\n",
    "\\overline{|M|^2} &=& 8 \\frac{e^4}{k^4} \\left[(p_1 ⋅ p_3)(p_2 ⋅ p_4) + (p_1 ⋅ p_4)(p_2 ⋅ p_3)\\right] +\\\\\n",
    "&& 8 \\frac{g^4}{\\cos^4 θ_W} \\frac{1}{(k^2 - M_Z^2)^2 + M_Z^2 Γ_Z^2} \\left[(g_V^2 + g_A^2)^2 \\left[(p_1 ⋅ p_3)(p_2 ⋅ p_4) + (p_1 ⋅ p_4) (p_2 ⋅ p_3)\\right] + 4 g_V^2 g_A^2 \\left[(p_1 ⋅ p_3) (p_2 ⋅ p_4) - (p_1 ⋅ p_4) (p_2 ⋅ p_3)\\right]\\right] +\\\\\n",
    "&& 16 \\frac{e^2 g^2}{\\cos^2 θ_W}  \\frac{k^2 - M_Z^2}{k^2 ((k^2 - M_Z^2)^2 + M_Z^2 Γ_Z^2)} \\left[g_V^2 \\left[(p_1 ⋅ p_3) (p_2 ⋅ p_4) + (p1 ⋅ p_4) (p_2 ⋅ p_3)\\right] + g_A^2 \\left[(p_1 ⋅ p_3) (p_2 ⋅ p_4) - (p_1 ⋅ p_4) (p_2 ⋅ p_3)\\right]\\right]\n",
    "\\end{eqnarray} "
   ]
  },
  {
   "cell_type": "markdown",
   "id": "2da04fe7-7930-4703-a2e5-91e7280d4163",
   "metadata": {},
   "source": [
    "# Center of mass kinematics\n",
    "\n",
    "In the center of mass frame,\n",
    "$$p_1 = (E, E \\hat{z}), \\quad p_2 = (E, - E \\hat{z}), \\quad p_3 = (E, -E \\hat{k}), \\quad p_4 = (E, E \\hat{k})$$\n",
    "and\n",
    "$$\\hat{z} ⋅ \\hat{k} = \\cos θ.$$\n",
    "Additionally, $k = p_1 + p_2 = (2 E, \\vec{0})$, so $k^2 = 4 E^2 = s$.\n",
    "\n",
    "This gives us\n",
    "$$p_1 ⋅ p_3 = p_2 ⋅ p_4 = E^2 (1 + \\cos θ), \\quad p_1 ⋅ p_4 = p_2 ⋅ p_3 = E^2 (1 - \\cos θ)$$\n",
    "and so\n",
    "$$(p_1 ⋅ p_3)(p_2 ⋅ p_4) + (p_1 ⋅ p_4)(p_2 ⋅ p_3) = \\frac{s^2}{8} (1 + \\cos^2 θ), \\quad (p_1 ⋅ p_3)(p_2 ⋅ p_4) - (p_1 ⋅ p_4)(p_2 ⋅ p_3) = \\frac{s^2}{4} \\cos θ$$\n",
    "\n",
    "This leaves us with\n",
    "\n",
    "\\begin{eqnarray}\n",
    "\\overline{|M|^2} &=& e^4 (1 + \\cos^2 θ) +\\\\\n",
    "&& \\frac{g^4}{\\cos^4 θ_W} \\frac{s^2}{(s - M_Z^2)^2 + M_Z^2 Γ_Z^2} \\left[(g_V^2 + g_A^2)^2 (1 + \\cos^2 θ) + 8 g_V^2 g_A^2 \\cos θ \\right] +\\\\\n",
    "&& 2 \\frac{e^2 g^2}{\\cos^2 θ_W}  \\frac{s (s - M_Z^2)}{(s - M_Z^2)^2 + M_Z^2 Γ_Z^2} \\left[g_V^2 (1 + \\cos^2 θ) + 2 g_A^2 \\cos θ \\right]\n",
    "\\end{eqnarray} "
   ]
  },
  {
   "cell_type": "markdown",
   "id": "831bc752-11c9-41ee-a391-bb78d175eb38",
   "metadata": {},
   "source": [
    "$$4 π α = e^2$$\n",
    "\n",
    "$$16 π^2 α^2 = e^4$$"
   ]
  },
  {
   "cell_type": "markdown",
   "id": "064ac6ff-5816-45a6-bd45-3e145c929b50",
   "metadata": {},
   "source": [
    "# Differential cross section\n",
    "\n",
    "To go from the squared matrix element to a differential cross section, we just need to apply the golden rule.  I won't work out all the phase-space integrals in detail, because for relativistic (i.e. massless) 2 → 2 scattering it is very simple:\n",
    "\n",
    "\\begin{eqnarray}\n",
    "\\frac{\\mathrm{d} σ}{\\mathrm{d} Ω} &=& \\frac{1}{64 π^2} \\frac{1}{s} \\overline{|M|^2}\n",
    "\\end{eqnarray}\n",
    "\n",
    "We can also write $dΩ = d \\cos θ dφ$ and, because our cross section has no dependence on $φ$, we can perform the integral over $φ$, which gives us a factor of $2π$.\n",
    "\n",
    "\\begin{eqnarray}\n",
    "\\frac{\\mathrm{d} σ}{\\mathrm{d} \\cos θ} &=& \\frac{1}{32 π} \\frac{1}{s} \\overline{\\left\\lvert M \\right\\rvert^2}\n",
    "\\end{eqnarray}\n",
    "\n",
    "\\begin{eqnarray}\n",
    "\\frac{\\mathrm{d} σ}{\\mathrm{d} \\cos θ} &=& \\frac{e^4}{32 π s} \\left(1 + \\cos^2 θ\\right) +\\\\\n",
    "&& \\frac{g^4}{32 π \\cos^4 θ_W} \\frac{s}{\\left(s - M_Z^2\\right)^2 + M_Z^2 Γ_Z^2} \\left[\\left(g_V^2 + g_A^2\\right)^2 \\left(1 + \\cos^2 θ\\right) + 8 g_V^2 g_A^2 \\cos θ\\right] + \\\\\n",
    "&& \\frac{e^2 g^2}{16 π \\cos^2 θ_W} \\frac{s - M_Z^2}{\\left(s - M_Z^2\\right)^2 + M_Z^2 Γ_Z^2} \\left[g_V^2 \\left(1 + \\cos^2 θ\\right) + 2 g_A^2 \\cos θ\\right]\n",
    "\\end{eqnarray}\n",
    "\n",
    "Then, if we introduce the fine structure constant $α = \\frac{e^2}{4π}$, we can write\n",
    "\n",
    "\\begin{eqnarray}\n",
    "\\frac{\\mathrm{d} σ}{\\mathrm{d} \\cos θ} &=& \\frac{π α^2}{2 s} \\left(1 + \\cos^2 θ\\right) +\\\\\n",
    "&& \\frac{g^4}{32 π \\cos^4 θ_W} \\frac{s}{\\left(s - M_Z^2\\right)^2 + M_Z^2 Γ_Z^2} \\left[\\left(g_V^2 + g_A^2\\right)^2 \\left(1 + \\cos^2 θ\\right) + 8 g_V^2 g_A^2 \\cos θ\\right] + \\\\\n",
    "&& \\frac{α g^2}{4 \\cos^2 θ_W} \\frac{s - M_Z^2}{\\left(s - M_Z^2\\right)^2 + M_Z^2 Γ_Z^2} \\left[g_V^2 \\left(1 + \\cos^2 θ\\right) + 2 g_A^2 \\cos θ\\right]\n",
    "\\end{eqnarray}\n",
    "\n",
    "And if we further introduce the Fermi constant,\n",
    "$$G_F = \\frac{\\sqrt{2}}{8} \\frac{g^2}{M_Z^2 \\cos^2 θ_W}$$\n",
    "then we can write\n",
    "\\begin{eqnarray}\n",
    "\\frac{\\mathrm{d} σ}{\\mathrm{d} \\cos θ} &=& \\frac{π α^2}{2 s} \\left(1 + \\cos^2 θ\\right) +\\\\\n",
    "&& \\frac{G_F^2 M_Z^4}{π} \\frac{s}{\\left(s - M_Z^2\\right)^2 + M_Z^2 Γ_Z^2} \\left[\\left(g_V^2 + g_A^2\\right)^2 \\left(1 + \\cos^2 θ\\right) + 8 g_V^2 g_A^2 \\cos θ\\right] + \\\\\n",
    "&& \\sqrt{2} α G_F M_Z^2 \\frac{s - M_Z^2}{\\left(s - M_Z^2\\right)^2 + M_Z^2 Γ_Z^2} \\left[g_V^2 \\left(1 + \\cos^2 θ\\right) + 2 g_A^2 \\cos θ\\right]\n",
    "\\end{eqnarray}"
   ]
  },
  {
   "cell_type": "markdown",
   "id": "3374d476-c034-433f-ad9c-8018d1202150",
   "metadata": {},
   "source": [
    "----\n",
    "\n",
    "## EFT matching\n",
    "\n",
    "Now we may want to expand this to match against EFT.  So define a small parameter $ξ = \\frac{s}{M_Z^2}$.  We will also take $Γ_Z = 0$.\n",
    "\n",
    "\\begin{eqnarray}\n",
    "\\frac{\\mathrm{d} σ}{\\mathrm{d} \\cos θ} &=& \\frac{π α^2}{2 s} \\left(1 + \\cos^2 θ\\right) +\\\\\n",
    "&& \\frac{G_F^2}{π} s \\frac{1}{\\left(ξ - 1\\right)^2} \\left[\\left(g_V^2 + g_A^2\\right)^2 \\left(1 + \\cos^2 θ\\right) + 8 g_V^2 g_A^2 \\cos θ\\right] + \\\\\n",
    "&& \\sqrt{2} α G_F \\frac{1}{ξ - 1} \\left[g_V^2 \\left(1 + \\cos^2 θ\\right) + 2 g_A^2 \\cos θ\\right]\n",
    "\\end{eqnarray}\n"
   ]
  },
  {
   "cell_type": "markdown",
   "id": "55ee16c2-5a7b-493e-8f71-f6bfccac6625",
   "metadata": {},
   "source": [
    "Interestingly, if we take the limit $ξ → 0$, we still get electroweak contributions.  This is because we are using the measured $G_F$, which includes a factor of $M_Z^{-2}$.  If we parameterized the differential cross section differently, using $g$, $M_Z$, and $\\cos θ_W$ instead of $G_F$, then we should be able to recover the QED prediction in the limit of $ξ→0$."
   ]
  },
  {
   "cell_type": "markdown",
   "id": "bb6575ef-cff0-4ca0-a534-53c4e00b6dd1",
   "metadata": {},
   "source": [
    "----"
   ]
  },
  {
   "cell_type": "markdown",
   "id": "97bbc3e2-6399-444b-9d35-c529dea88fa0",
   "metadata": {},
   "source": [
    "# LEFT"
   ]
  },
  {
   "cell_type": "markdown",
   "id": "6b9930cd-bf31-48f2-876e-12300b105ba3",
   "metadata": {},
   "source": [
    "The Feynman rules for the photon propagator and the lepton-photon vertex are the same.  Because we have integrated out the heavy degrees of freedom, we do not have Feynman rules for the $Z$ boson propagator nor for the $Z$-lepton vertex.\n",
    "\n",
    "There are four new four-lepton operators in the low-energy field theory (LEFT) that are relevant, provided we exclude charged lepton flavor violation.\n",
    "\n",
    "\\begin{eqnarray}\n",
    "O^{V,LL} &=& \\frac{1}{Λ^2} C^{V,LL} (\\bar{ψ}_L γ^μ ψ_L) (\\bar{ψ}_L γ_μ ψ_L) \\\\\n",
    "O^{V,LR} &=& \\frac{1}{Λ^2} C^{V,LR} (\\bar{ψ}_L γ^μ ψ_L) (\\bar{ψ}_R γ_μ ψ_R) \\\\\n",
    "O^{V,RR} &=& \\frac{1}{Λ^2} C^{V,RR} (\\bar{ψ}_R γ^μ ψ_R) (\\bar{ψ}_R γ_μ ψ_R) \\\\\n",
    "O^{S,RR} &=& \\frac{1}{Λ^2} C^{S,RR} (\\bar{ψ}_L ψ_R) (\\bar{ψ}_L ψ_R)\n",
    "\\end{eqnarray}"
   ]
  },
  {
   "cell_type": "markdown",
   "id": "dac52cd7-9854-493a-ac93-07db26b3edc7",
   "metadata": {},
   "source": [
    "To make the calculation easier, we will rewrite the fermion bilinears in terms of $γ^5$ instead of $ψ_L$ and $ψ_R$.\n",
    "\n",
    "\\begin{eqnarray}\n",
    "\\left(\\bar{ψ}_R γ^μ ψ_R\\right) &=& \\frac{1}{2} \\left[\\left(\\bar{ψ} γ^μ ψ\\right) + \\left(\\bar{ψ} γ^μ γ^5 ψ\\right)\\right]\\\\\n",
    "\\left(\\bar{ψ}_L γ^μ ψ_L\\right) &=& \\frac{1}{2} \\left[\\left(\\bar{ψ} γ^μ ψ\\right) - \\left(\\bar{ψ} γ^μ γ^5 ψ\\right)\\right]\\\\\n",
    "\\left(\\bar{ψ}_L ψ_R\\right)     &=& \\frac{1}{2} \\left[\\left(\\bar{ψ} ψ\\right) + \\left(\\bar{ψ} γ^5 ψ\\right)\\right]\\\\\n",
    "\\end{eqnarray}"
   ]
  },
  {
   "cell_type": "markdown",
   "id": "48defff7-dcbd-4387-8f09-813b3b18df9d",
   "metadata": {},
   "source": [
    "For simplicity, we absorb (for now) the photon contribution into the four vector contributions.  At the end, we will substitute the photon contribution back in by adding it in equal amounts to the four vector Wilson coefficients.  We also include the EFT scale $Λ^2$ in the Wilson coefficients for now, and will add it back in at the end, after the photon contribution."
   ]
  },
  {
   "cell_type": "markdown",
   "id": "5e86584d-f0b6-455f-ba50-777ddf8c5f11",
   "metadata": {},
   "source": [
    "$$-4 i M = C^{V,LL}_{eeμμ} \\left[ V_i V_o - V_i A_o - A_i V_o + A_i A_o \\right]\n",
    "         + C^{V,RR}_{eeμμ} \\left[ V_i V_o + V_i A_o + A_i V_o + A_i A_o \\right]\n",
    "         + C^{V,LR}_{eeμμ} \\left[ V_i V_o + V_i A_o - A_i V_o - A_i A_o \\right]\n",
    "         + C^{V,LR}_{μμee} \\left[ V_i V_o - V_i A_o + A_i V_o - A_i A_o \\right]\n",
    "         + C^{S,RR}_{eeμμ} \\left[ S_i S_o + S_i P_o + P_i S_o + P_i P_o \\right]$$\n",
    "where $V_i$, $V_o$ are respectively vector bilinears of incoming and outgoing particles, $A_i$, $A_o$ are axial vector bilinears, $S_i$, $S_o$ are scalar bilinears, and $P_i$, $P_o$ are pseudoscalar bilinears.  The factor of 4 comes from the fact that the Wilson coefficients are defined in terms of left and right projection operators, but we have converted to vector, axial vector, scalar, and pseudoscalar.\n",
    "\n",
    "$$S_i = (\\bar{v}_2 u_1), \\quad S_o = (\\bar{u}_3 v_4), \\quad P_i = (\\bar{v}_2 γ^5 u_1), \\quad P_o = (\\bar{u}_3 γ^5 v_4)$$"
   ]
  },
  {
   "cell_type": "markdown",
   "id": "9e7428b4-2c0b-4cb8-9b2d-fff6b09e31a7",
   "metadata": {},
   "source": [
    "$$V_i = (\\bar{v}_2 γ^μ u_1) \\quad V_o = (\\bar{u}_3 γ_μ v_4) \\quad A_i = (\\bar{v}_2 γ^μ γ^5 u_1) \\quad A_o = (\\bar{u}_3 γ_μ γ^5 v_4)$$"
   ]
  },
  {
   "cell_type": "markdown",
   "id": "decdba87-8296-41ee-ba26-0e07151e032d",
   "metadata": {},
   "source": [
    "Regrouping this, we can write\n",
    "\n",
    "$$- 4 i M = V_i V_o \\left[ C^{V,LL}_{eeμμ} + C^{V,RR}_{eeμμ} + C^{V,LR}_{eeμμ} + C^{V,LR}_{μμee}\\right]\n",
    "          + V_i A_o \\left[-C^{V,LL}_{eeμμ} + C^{V,RR}_{eeμμ} + C^{V,LR}_{eeμμ} - C^{V,LR}_{μμee}\\right]\n",
    "          + A_i V_o \\left[-C^{V,LL}_{eeμμ} + C^{V,RR}_{eeμμ} - C^{V,LR}_{eeμμ} + C^{V,LR}_{μμee}\\right]\n",
    "          + A_i A_o \\left[ C^{V,LL}_{eeμμ} + C^{V,RR}_{eeμμ} - C^{V,LR}_{eeμμ} - C^{V,LR}_{μμee}\\right]\n",
    "          + S_i S_o C^{S,RR}_{eeμμ}\n",
    "          + S_i P_o C^{S,RR}_{eeμμ}\n",
    "          + P_i S_o C^{S,RR}_{eeμμ}\n",
    "          + P_i P_o C^{S,RR}_{eeμμ}$$\n",
    "          \n",
    "Define\n",
    "$$a = C^{V,LL}_{eeμμ} + C^{V,RR}_{eeμμ} + C^{V,LR}_{eeμμ} + C^{V,LR}_{μμee}$$\n",
    "$$b =-C^{V,LL}_{eeμμ} + C^{V,RR}_{eeμμ} + C^{V,LR}_{eeμμ} - C^{V,LR}_{μμee}$$\n",
    "$$c =-C^{V,LL}_{eeμμ} + C^{V,RR}_{eeμμ} - C^{V,LR}_{eeμμ} + C^{V,LR}_{μμee}$$\n",
    "$$d = C^{V,LL}_{eeμμ} + C^{V,RR}_{eeμμ} - C^{V,LR}_{eeμμ} - C^{V,LR}_{μμee}$$"
   ]
  },
  {
   "cell_type": "markdown",
   "id": "6d8ccac6-5508-473e-ad04-25bae91813af",
   "metadata": {},
   "source": [
    "\\begin{align*}\n",
    "\\overline{\\left\\lvert M \\right\\rvert^2} = \\frac{1}{16} \\frac{1}{4} \\sum_\\text{spins} \n",
    "& |a|^2 (V_i^* V_i) (V_o^* V_o) + a^*b  (V_i^* V_i) (V_o^* A_o) + a^*c  (V_i^* A_i) (V_o^* V_o) + a^*d  (V_i^* A_i) (V_o^* A_o) + \\\\\n",
    "& b^*a  (V_i^* V_i) (A_o^* V_o) + |b|^2 (V_i^* V_i) (A_o^* A_o) + b^*c  (V_i^* A_i) (A_o^* V_o) + b^*d  (V_i^* A_i) (A_o^* A_o) + \\\\\n",
    "& c^*a  (A_i^* V_i) (V_o^* V_o) + c^*b  (A_i^* V_i) (V_o^* A_o) + |c|^2 (A_i^* A_i) (V_o^* V_o) + c^*d  (A_i^* A_i) (V_o^* A_o) + \\\\\n",
    "& d^*a  (A_i^* V_i) (A_o^* V_o) + d^*b  (A_i^* V_i) (A_o^* A_o) + d^*c  (A_i^* A_i) (A_o^* V_o) + |d|^2 (A_i^* A_i) (A_o^* A_o) + \\\\\n",
    "& |C^{S,RR}_{eeμμ}|^2 \\left[(S_i^* S_i) (S_o^* S_o) + (S_i^* S_i) (S_o^* P_o) + (S_i^* P_i) (S_o^* S_o) + (S_i^* P_i) (S_o^* P_o) + \\right.\\\\\n",
    "& \\phantom{|C^{S,RR}_{eeμμ}|^2 \\left[\\right.}(S_i^* S_i) (P_o^* S_o) + (S_i^* S_i) (P_o^* P_o) + (S_i^* P_i) (P_o^* S_o) + (S_i^* P_i) (P_o^* P_o) + \\\\\n",
    "& \\phantom{|C^{S,RR}_{eeμμ}|^2 \\left[\\right.}(P_i^* S_i) (S_o^* S_o) + (P_i^* S_i) (S_o^* P_o) + (P_i^* P_i) (S_o^* S_o) + (P_i^* P_i) (S_o^* P_o) + \\\\\n",
    "& \\phantom{|C^{S,RR}_{eeμμ}|^2 \\left[\\right.}\\left.(P_i^* S_i) (P_o^* S_o) + (P_i^* S_i) (P_o^* P_o) + (P_i^* P_i) (P_o^* S_o) + (P_i^* P_i) (P_o^* P_o)\\right]\n",
    "\\end{align*}"
   ]
  },
  {
   "cell_type": "markdown",
   "id": "ab0ad702-65fb-444a-a792-6a28538bb8e6",
   "metadata": {},
   "source": [
    "Many of the products of the bilinears, summed over spin states, will be zero, for example\n",
    "$$\\sum_\\text{spins} V_i^* S_i = \\sum_\\text{spins} (\\bar{u}_1 γ^μ v_2) (\\bar{v}_2 u_1) = p_{1α} p_{2β} Tr\\left[γ^α γ^μ γ^β\\right] = 0$$\n",
    "In particular, any vector or axial vector times any scalar or pseudoscalar will have zero trace.\n",
    "\n",
    "Additionally, the scalar times pseudoscalar terms have zero trace.\n",
    "\n",
    "\\begin{eqnarray}\n",
    "\\sum_\\text{spins} S_i^* S_i &=& \\sum_\\text{spins} (\\bar{u}_1 v_2) (\\bar{v}_2 u_1) = p_{1α} p_{2β} Tr\\left[γ^α γ^β\\right] = 4 p_{1α} p_{2β} g^{αβ} = 4 (p_1 ⋅ p_2)\\\\\n",
    "\\sum_\\text{spins} S_i^* P_i &=& \\sum_\\text{spins} (\\bar{u}_1 v_2) (\\bar{v}_2 γ^5 u_1) = p_{1α} p_{2β} Tr\\left[γ^α γ^β γ^5\\right] = 0\\\\\n",
    "\\sum_\\text{spins} P_i^* S_i &=& \\sum_\\text{spins} -(\\bar{u}_1 γ^5 v_2) (\\bar{v}_2 u_1) = p_{1α} p_{2β} Tr\\left[γ^α γ^5 γ^β\\right] = 0\\\\\n",
    "\\sum_\\text{spins} P_i^* P_i &=& \\sum_\\text{spins} -(\\bar{u}_1 γ^5 v_2) (\\bar{v}_2 γ^5 u_1) = p_{1α} p_{2β} Tr\\left[γ^α γ^5 γ^β γ^5\\right] = 4 (p_1 ⋅ p_2)\n",
    "\\end{eqnarray}"
   ]
  },
  {
   "cell_type": "markdown",
   "id": "3d7889d6-dff3-4b30-8e8c-78ff74c901f1",
   "metadata": {},
   "source": [
    "Removing the zero terms leaves us with\n",
    "$$\\overline{\\left\\lvert M \\right\\rvert^2} = \\frac{1}{16} \\frac{1}{4} \\sum_\\text{spins} |a|^2 (V_i^* V_i) (V_o^* V_o) + a^*d (V_i^* A_i) (V_o^* A_o) + |b|^2 (V_i^* V_i) (A_o^* A_o) + b^*c (V_i^* A_i)(A_o^* V_o) + c^*b (A_i^* V_i) (V_o^* A_o) + |c|^2 (A_i^* A_i) (V_o^* V_o) + d^*a (A_i^* V_i)(A_o^* V_o) + |d|^2 (A_i^* A_i) (A_o^* A_o) + \\left|C^{S,RR}_{eeμμ}\\right|^2 \\left[(S_i^* S_i)(S_o^* S_o) + (S_i^* S_i) (P_o^* P_o) + (P_i^* P_i) (S_o^* S_o) + (P_i^* P_i) (P_o^* P_o)\\right]$$"
   ]
  },
  {
   "cell_type": "markdown",
   "id": "2d30fe50-9602-4ca8-8731-7111f88e1950",
   "metadata": {},
   "source": [
    "Using the traces established earlier gives us\n",
    "$$\\overline{\\left\\lvert M \\right\\rvert^2} = \\frac{1}{16} \\frac{1}{4} \\left[32 \\left(|a|^2 + |b|^2 + |c|^2 + |d|^2\\right) \\left((p_1 ⋅ p_3) (p_2 ⋅ p_4) + (p_1 ⋅ p_4) (p_2 ⋅ p_3)\\right) - 32 \\left(2\\Re ad + 2\\Re bc\\right) \\left((p_1 ⋅ p_3) (p_2 ⋅ p_4) - (p_1 ⋅ p_4) (p_2 ⋅ p_3)\\right) + 64 \\left|C^{S,RR}_{eeμμ}\\right|^2 (p_1 ⋅ p_2) (p_3 ⋅ p_4)\\right]$$"
   ]
  },
  {
   "cell_type": "markdown",
   "id": "56215df1-f2f2-4d19-abf7-2615a2568be1",
   "metadata": {},
   "source": [
    "In the center of mass frame, this becomes\n",
    "\n",
    "$$\\overline{|M|^2} = \\frac{1}{16} \\frac{1}{4} \\left[\n",
    "  32 \\frac{s^2}{8} \\left(a^2 + b^2 + c^2 + d^2\\right) \\left(1 + \\cos^2 θ\\right)\n",
    "- 32 \\frac{s^2}{4} \\left(2ad + 2bc\\right) \\cos θ\n",
    "+ 64 \\frac{s^2}{4} \\left|C^{S,RR}_{eeμμ}\\right|^2\n",
    "\\right]$$\n",
    "\n",
    "$$\\overline{|M|^2} = \\frac{s^2}{16} \\left[\n",
    "  \\left(a^2 + b^2 + c^2 + d^2\\right) \\left(1 + \\cos^2 θ\\right)\n",
    "- 2 \\left(2\\Re ad + 2\\Re bc\\right) \\cos θ\n",
    "+ 4 \\left|C^{S,RR}_{eeμμ}\\right|^2\n",
    "\\right]$$\n",
    "\n",
    "We can find that\n",
    "\\begin{eqnarray}\n",
    "|a|^2 + |b|^2 + |c|^2 + |d|^2 &=& 4\\left[\\left|C^{V,LL}_{eeμμ}\\right|^2 + \\left|C^{V,RR}_{eeμμ}\\right|^2 + \\left|C^{V,LR}_{eeμμ}\\right|^2 + \\left|C^{V,LR}_{μμee}\\right|^2\\right]\\\\\n",
    "2\\Re ad + 2\\Re bc             &=& 4\\left[\\left|C^{V,LL}_{eeμμ}\\right|^2 + \\left|C^{V,RR}_{eeμμ}\\right|^2 - \\left|C^{V,LR}_{eeμμ}\\right|^2 - \\left|C^{V,LR}_{μμee}\\right|^2\\right]\n",
    "\\end{eqnarray}"
   ]
  },
  {
   "cell_type": "markdown",
   "id": "e6f65cc0-319b-425d-a265-6df3020d346a",
   "metadata": {},
   "source": [
    "So then,\n",
    "\\begin{align}\n",
    "\\overline{|M|^2} = \\frac{s^2}{16} &\\left[\n",
    " 4\\left[\\left|C^{V,LL}_{eeμμ}\\right|^2 + \\left|C^{V,RR}_{eeμμ}\\right|^2 + \\left|C^{V,LR}_{eeμμ}\\right|^2 + \\left|C^{V,LR}_{μμee}\\right|^2\\right] \\left(1 + \\cos^2 θ\\right) \\right.\\\\\n",
    "&- 8\\left[\\left|C^{V,LL}_{eeμμ}\\right|^2 + \\left|C^{V,RR}_{eeμμ}\\right|^2 - \\left|C^{V,LR}_{eeμμ}\\right|^2 - \\left|C^{V,LR}_{μμee}\\right|^2\\right] \\cos θ\\\\\n",
    "& + \\left. 4\\left|C^{S,RR}_{eeμμ}\\right|^2\\right]\n",
    "\\end{align}"
   ]
  },
  {
   "cell_type": "markdown",
   "id": "a306aa9c-1eaf-4c71-885d-7a5e6c1aec7e",
   "metadata": {},
   "source": [
    "Now we want to substitute the photon contribution back in.\n",
    "\n",
    "$$-i M_\\text{photon} = (\\bar{ψ} γ^μ ψ) \\frac{e^2}{k^2 + iε} (\\bar{ψ} γ_μ ψ) = \\left[(\\bar{ψ}_L γ^μ ψ_L) + (\\bar{ψ}_R γ^μ ψ_R)\\right] \\frac{e^2}{k^2 + iε} \\left[(\\bar{ψ}_L γ_μ ψ_L) + (\\bar{ψ}_R γ_μ ψ_R)\\right]$$\n",
    "\n",
    "So,\n",
    "\\begin{eqnarray}\n",
    "C^{V,LL}_{eeμμ} &→& C^{V,LL}_{eeμμ} + \\frac{e^2}{k^2 + iε}\\\\\n",
    "C^{V,RR}_{eeμμ} &→& C^{V,RR}_{eeμμ} + \\frac{e^2}{k^2 + iε}\\\\\n",
    "C^{V,LR}_{eeμμ} &→& C^{V,LR}_{eeμμ} + \\frac{e^2}{k^2 + iε}\\\\\n",
    "C^{V,LR}_{μμee} &→& C^{V,LR}_{μμee} + \\frac{e^2}{k^2 + iε}\n",
    "\\end{eqnarray}\n",
    "\n",
    "\\begin{eqnarray}\n",
    "\\left|C\\right|^2 &→& \\left| C + \\frac{e^2}{k^2 + iε} \\right|^2\\\\\n",
    "&=& \\left|C\\right|^2 + 2\\Re C \\frac{e^2 (k^2 + iε)}{k^4 + ε^2} + \\frac{e^4}{k^4 + ε^2}\n",
    "\\end{eqnarray}\n",
    "\n",
    "Taking $ε = 0$ and recalling that $k^2 = s$, this becomes\n",
    "$$\\left|C\\right|^2 + 2\\Re C \\frac{e^2}{s} + \\frac{e^4}{s^2}$$"
   ]
  },
  {
   "cell_type": "markdown",
   "id": "e4c9788c-f7bc-4e07-b397-5b86be2ca726",
   "metadata": {},
   "source": [
    "So then the squared matrix element becomes\n",
    "\\begin{align}\n",
    "\\overline{|M|^2} = \\frac{s^2}{4} &\\left\\lbrace\n",
    " \\left[\\left|C^{V,LL}_{eeμμ}\\right|^2 + \\left|C^{V,RR}_{eeμμ}\\right|^2 + \\left|C^{V,LR}_{eeμμ}\\right|^2 + \\left|C^{V,LR}_{μμee}\\right|^2 + 2 \\Re \\left(C^{V,LL}_{eeμμ} + C^{V,RR}_{eeμμ} + C^{V,LR}_{eeμμ} + C^{V,LR}_{μμee}\\right) \\frac{e^2}{s} + 4 \\frac{e^4}{s^2}\\right] \\left(1 + \\cos^2 θ\\right) \\right.\\\\\n",
    "&- 2\\left[\\left|C^{V,LL}_{eeμμ}\\right|^2 + \\left|C^{V,RR}_{eeμμ}\\right|^2 - \\left|C^{V,LR}_{eeμμ}\\right|^2 - \\left|C^{V,LR}_{μμee}\\right|^2 + 2\\Re \\left(C^{V,LL}_{eeμμ} + C^{V,RR}_{eeμμ} - C^{V,LR}_{eeμμ} - C^{V,LR}_{μμee}\\right) \\frac{e^2}{s}\\right] \\cos θ\\\\\n",
    "& + \\left. \\left|C^{S,RR}_{eeμμ}\\right|^2\\right\\rbrace\n",
    "\\end{align}\n",
    "\n",
    "And then inserting the EFT scale $Λ$, $C → C/Λ^2$, so\n",
    "\\begin{align}\n",
    "\\overline{|M|^2} = \\frac{1}{4} &\\left\\lbrace\n",
    " \\left[\\frac{s^2}{Λ^4} \\left(\\left|C^{V,LL}_{eeμμ}\\right|^2 + \\left|C^{V,RR}_{eeμμ}\\right|^2 + \\left|C^{V,LR}_{eeμμ}\\right|^2 + \\left|C^{V,LR}_{μμee}\\right|^2\\right) + 2 e^2 \\frac{s}{Λ^2} \\Re \\left(C^{V,LL}_{eeμμ} + C^{V,RR}_{eeμμ} + C^{V,LR}_{eeμμ} + C^{V,LR}_{μμee}\\right) + 4 e^4\\right] \\left(1 + \\cos^2 θ\\right) \\right.\\\\\n",
    "&- 2\\left[\\frac{s^2}{Λ^4} \\left(\\left|C^{V,LL}_{eeμμ}\\right|^2 + \\left|C^{V,RR}_{eeμμ}\\right|^2 - \\left|C^{V,LR}_{eeμμ}\\right|^2 - \\left|C^{V,LR}_{μμee}\\right|^2\\right) + 2 e^2 \\frac{s}{Λ^2} \\Re \\left(C^{V,LL}_{eeμμ} + C^{V,RR}_{eeμμ} - C^{V,LR}_{eeμμ} - C^{V,LR}_{μμee}\\right)\\right] \\cos θ\\\\\n",
    "& + \\left. \\frac{s^2}{Λ^4} \\left|C^{S,RR}_{eeμμ}\\right|^2\\right\\rbrace\n",
    "\\end{align}"
   ]
  },
  {
   "cell_type": "markdown",
   "id": "a04b1c7d-c3f7-4f58-b20c-57da0b229417",
   "metadata": {},
   "source": [
    "Now we use the golden rule to turn this into a cross section as before.\n",
    "\n",
    "$$\\frac{\\mathrm{d}σ}{\\mathrm{d}\\cos θ} = \\frac{1}{32 π} \\frac{1}{s} \\overline{|M|^2}$$\n",
    "\n",
    "\\begin{align}\n",
    "\\frac{\\mathrm{d}σ}{\\mathrm{d}\\cos θ} = \\frac{1}{128 π}\\frac{1}{s} &\\left\\lbrace\n",
    " \\left[\\frac{s^2}{Λ^4} \\left(\\left|C^{V,LL}_{eeμμ}\\right|^2 + \\left|C^{V,RR}_{eeμμ}\\right|^2 + \\left|C^{V,LR}_{eeμμ}\\right|^2\\right) + \\left|C^{V,LR}_{μμee}\\right|^2 + 2 e^2 \\frac{s}{Λ^2} \\Re \\left(C^{V,LL}_{eeμμ} + C^{V,RR}_{eeμμ} + C^{V,LR}_{eeμμ} + C^{V,LR}_{μμee}\\right) + 4 e^4\\right] \\left(1 + \\cos^2 θ\\right) \\right.\\\\\n",
    "&- 2\\left[\\frac{s^2}{Λ^4} \\left(\\left|C^{V,LL}_{eeμμ}\\right|^2 + \\left|C^{V,RR}_{eeμμ}\\right|^2 - \\left|C^{V,LR}_{eeμμ}\\right|^2 - \\left|C^{V,LR}_{μμee}\\right|^2\\right) + 2 e^2 \\frac{s}{Λ^2} \\Re \\left(C^{V,LL}_{eeμμ} + C^{V,RR}_{eeμμ} - C^{V,LR}_{eeμμ} - C^{V,LR}_{μμee}\\right)\\right] \\cos θ\\\\\n",
    "& + \\left. \\frac{s^2}{Λ^4} \\left|C^{S,RR}_{eeμμ}\\right|^2\\right\\rbrace\n",
    "\\end{align}"
   ]
  },
  {
   "cell_type": "code",
   "execution_count": null,
   "id": "43fd5a85-e904-4690-be50-f1f2099d9f7e",
   "metadata": {},
   "outputs": [],
   "source": []
  },
  {
   "cell_type": "code",
   "execution_count": null,
   "id": "cf7c9d49-8578-4484-b90d-fe0bf16c88f4",
   "metadata": {},
   "outputs": [],
   "source": []
  }
 ],
 "metadata": {
  "kernelspec": {
   "display_name": "Python [conda env:coffea]",
   "language": "python",
   "name": "conda-env-coffea-py"
  },
  "language_info": {
   "codemirror_mode": {
    "name": "ipython",
    "version": 3
   },
   "file_extension": ".py",
   "mimetype": "text/x-python",
   "name": "python",
   "nbconvert_exporter": "python",
   "pygments_lexer": "ipython3",
   "version": "3.10.8"
  }
 },
 "nbformat": 4,
 "nbformat_minor": 5
}
